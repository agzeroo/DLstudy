{
  "nbformat": 4,
  "nbformat_minor": 0,
  "metadata": {
    "kernelspec": {
      "display_name": "Python 3",
      "language": "python",
      "name": "python3"
    },
    "language_info": {
      "codemirror_mode": {
        "name": "ipython",
        "version": 3
      },
      "file_extension": ".py",
      "mimetype": "text/x-python",
      "name": "python",
      "nbconvert_exporter": "python",
      "pygments_lexer": "ipython3",
      "version": "3.8.5"
    },
    "colab": {
      "name": "04_평균 제곱 오차.ipynb",
      "provenance": []
    }
  },
  "cells": [
    {
      "cell_type": "markdown",
      "metadata": {
        "id": "F27dyHHbXPJn"
      },
      "source": [
        "### 평균 제곱 오차\n",
        "- 앞서 살펴본 최소 제곱법을 이용하면 최적의 기울기와 절편을 계산할 수 있다.\n",
        "- 최소 제곱법은 입력데이터의 컬럼이 하나일 경우 정확한 계산이 가능하다.\n",
        "- 허나 세상의 모든 데이터는 그 형태가 다르고 컬럼이 하나인 것만 존재하는 것은 아니다.\n",
        "- 이에 세상의 모든 데이터를 대응하기 위한 공식을 만들기가 어렵다.\n",
        "- 따라서 최적의 선을 찾기 위해 임의 선을 하나 그리고 진짜 데이터와 얼마나 오차가 발생하는지 파악한다음 오차가 최소가 되는 선을 찾기위해 기울기와 절편을 조금씩 보정해 나가는 방식을 사용한다.\n",
        "- 이 때 오차 정도를 구하기 위해서 평균 제곱 오차라는 공식을 많이 사용한다.\n",
        "![평균 제곱 오차](notebook_image/3.png)"
      ]
    },
    {
      "cell_type": "code",
      "metadata": {
        "id": "yNR_tSjaXPJr",
        "outputId": "6210d5f8-9984-4257-e6ce-909218c4b529"
      },
      "source": [
        "# 기본\n",
        "import pandas as pd\n",
        "import numpy as np\n",
        "import matplotlib.pyplot as plt\n",
        "import seaborn as sns\n",
        "\n",
        "# 경고 뜨지 않게 설정\n",
        "import warnings\n",
        "warnings.filterwarnings('ignore')\n",
        "\n",
        "# 그래프 설정\n",
        "plt.rcParams['font.family'] = 'Malgun Gothic'\n",
        "# plt.rcParams['font.family'] = 'AppleGothic'\n",
        "plt.rcParams['font.size'] = 16\n",
        "plt.rcParams['figure.figsize'] = 20, 10\n",
        "plt.rcParams['axes.unicode_minus'] = False\n",
        "\n",
        "# 데이터 전처리 알고리즘\n",
        "from sklearn.preprocessing import LabelEncoder\n",
        "from sklearn.preprocessing import StandardScaler\n",
        "\n",
        "# 학습용과 검증용으로 나누는 함수\n",
        "from sklearn.model_selection import train_test_split\n",
        "\n",
        "# 교차 검증\n",
        "# 지표를 하나만 설정할 경우\n",
        "from sklearn.model_selection import cross_val_score\n",
        "# 지표를 하나 이상 설정할 경우\n",
        "from sklearn.model_selection import cross_validate\n",
        "from sklearn.model_selection import KFold\n",
        "from sklearn.model_selection import StratifiedKFold\n",
        "\n",
        "# 모델의 최적의 하이퍼파라미터를 찾기 위한 도구\n",
        "from sklearn.model_selection import GridSearchCV\n",
        "\n",
        "# 평가함수\n",
        "# 분류용\n",
        "from sklearn.metrics import accuracy_score\n",
        "from sklearn.metrics import precision_score\n",
        "from sklearn.metrics import recall_score\n",
        "from sklearn.metrics import f1_score\n",
        "from sklearn.metrics import roc_auc_score\n",
        "\n",
        "# 회귀용\n",
        "from sklearn.metrics import r2_score\n",
        "from sklearn.metrics import mean_squared_error\n",
        "\n",
        "# 머신러닝 알고리즘 - 분류\n",
        "from sklearn.neighbors import KNeighborsClassifier\n",
        "from sklearn.linear_model import LogisticRegression\n",
        "from sklearn.svm import SVC\n",
        "from sklearn.tree import DecisionTreeClassifier\n",
        "from sklearn.ensemble import RandomForestClassifier\n",
        "from sklearn.ensemble import AdaBoostClassifier\n",
        "from sklearn.ensemble import GradientBoostingClassifier\n",
        "from lightgbm import LGBMClassifier\n",
        "from xgboost import XGBClassifier\n",
        "from sklearn.ensemble import VotingClassifier\n",
        "\n",
        "# 머신러닝 알고리즘 - 회귀\n",
        "from sklearn.neighbors import KNeighborsRegressor\n",
        "from sklearn.linear_model import LinearRegression\n",
        "from sklearn.linear_model import Ridge\n",
        "from sklearn.linear_model import Lasso\n",
        "from sklearn.linear_model import ElasticNet\n",
        "from sklearn.svm import SVR\n",
        "from sklearn.tree import DecisionTreeRegressor\n",
        "from sklearn.ensemble import RandomForestRegressor\n",
        "from sklearn.ensemble import AdaBoostRegressor\n",
        "from sklearn.ensemble import GradientBoostingRegressor\n",
        "from lightgbm import LGBMRegressor\n",
        "from xgboost import XGBRegressor\n",
        "from sklearn.ensemble import VotingRegressor\n",
        "\n",
        "# 차원축소\n",
        "from sklearn.decomposition import PCA\n",
        "from sklearn.discriminant_analysis import LinearDiscriminantAnalysis\n",
        "\n",
        "# 군집화\n",
        "from sklearn.cluster import KMeans\n",
        "from sklearn.cluster import MeanShift\n",
        "from sklearn.cluster import estimate_bandwidth\n",
        "\n",
        "# ARIMA (시계열 예측)\n",
        "from statsmodels.tsa.arima_model import ARIMA\n",
        "import statsmodels.api as sm\n",
        "\n",
        "# 시간 측정을 위한 시간 모듈\n",
        "import datetime\n",
        "# 주식 정보를 읽어오기 위한 라이브러리\n",
        "from pandas_datareader import data\n",
        "\n",
        "# 형태소 백터를 생성하기 위한 라이브러리\n",
        "from sklearn.feature_extraction.text import CountVectorizer\n",
        "# 형태소 백터를 학습 백터로 변환한다.\n",
        "from sklearn.feature_extraction.text import TfidfTransformer\n",
        "\n",
        "# 데이터 수집\n",
        "import requests\n",
        "from bs4 import BeautifulSoup\n",
        "import re\n",
        "import time\n",
        "import os\n",
        "import json\n",
        "\n",
        "# 한국어 형태소 분석\n",
        "from konlpy.tag import Okt, Hannanum, Kkma, Mecab, Komoran\n",
        "\n",
        "# 워드 클라우드를 위한 라이브러리\n",
        "from collections import Counter\n",
        "import pytagcloud\n",
        "from IPython.display import Image\n",
        "\n",
        "# 저장\n",
        "import pickle\n",
        "\n",
        "# 딥러닝\n",
        "import tensorflow as tf\n",
        "\n",
        "# 딥러닝 모델 구조를 정의하는 것\n",
        "from tensorflow.keras.models import Sequential\n",
        "# 층구조를 정의하는 것\n",
        "from tensorflow.keras.layers import Dense\n",
        "# 활성화 함수를 정의하는 것\n",
        "from tensorflow.keras.layers import Activation\n",
        "\n",
        "# 현재 프로젝트를 gpu에 할당한다.\n",
        "# 컴퓨터의 GPU는 메모리를 가지고 있다.\n",
        "gpus = tf.config.experimental.list_physical_devices('GPU')\n",
        "# gpu가 있다면..\n",
        "if len(gpus) > 0 :\n",
        "    try :\n",
        "        for gpu in gpus :\n",
        "            tf.config.experimental.set_memory_growth(gpu, True)\n",
        "    except RuntimeError as e :\n",
        "        print(e)"
      ],
      "execution_count": null,
      "outputs": [
        {
          "output_type": "stream",
          "text": [
            "pygame 2.0.1 (SDL 2.0.14, Python 3.8.5)\n",
            "Hello from the pygame community. https://www.pygame.org/contribute.html\n"
          ],
          "name": "stdout"
        }
      ]
    },
    {
      "cell_type": "markdown",
      "metadata": {
        "id": "szBh4D2EXmnP"
      },
      "source": [
        "### 평균 제곱 오차\n",
        "- 앞서 살펴본 최소 제곱법을 이용하면 최적의 기울기와 절편을 계산할 수 있다.\n",
        "- 최소 제곱법은 입력데이터의 컬럼이 하나일 경우 정확한 계산이 가능하다.\n",
        "- 허나 세상의 모든 데이터는 그 형태가 다르고 컬럼이 하나인 것만 존재하는 것은 아니다.\n",
        "- 이에 세상의 모든 데이터를 대응하기 위한 공식을 만들기가 어렵다.\n",
        "- 따라서 최적의 선을 찾기 위해 임의 선을 하나 그리고 진짜 데이터와 얼마나 오차가 발생하는지 파악한다음 오차가 최소가 되는 선을 찾기위해 기울기와 절편을 조금씩 보정해 나가는 방식을 사용한다.\n",
        "- 이 때 오차 정도를 구하기 위해서 평균 제곱 오차라는 공식을 많이 사용한다."
      ]
    },
    {
      "cell_type": "code",
      "metadata": {
        "id": "8zMUl_JVXPJv"
      },
      "source": [
        "# 학습할 데이터\n",
        "공부한시간 = [2, 4, 6, 8]\n",
        "성적 = [81, 93, 91, 97]"
      ],
      "execution_count": null,
      "outputs": []
    },
    {
      "cell_type": "code",
      "metadata": {
        "id": "o2q2SEiWXPJw"
      },
      "source": [
        "# 기울기와 절편\n",
        "기울기 = 2\n",
        "y절편 = 79.0"
      ],
      "execution_count": null,
      "outputs": []
    },
    {
      "cell_type": "code",
      "metadata": {
        "id": "aYprj3p6XPJw",
        "outputId": "a18ce59d-021d-47c2-9b25-7aa8d386e939"
      },
      "source": [
        "# 예측 결과를 가져온다.\n",
        "# 값을 예측하여 실제 결과와 비교해본다.\n",
        "예측성적 = []\n",
        "\n",
        "for v1 in 공부한시간 :\n",
        "    a1 = (기울기 * v1) + y절편\n",
        "    예측성적.append(a1)\n",
        "    \n",
        "예측성적"
      ],
      "execution_count": null,
      "outputs": [
        {
          "output_type": "execute_result",
          "data": {
            "text/plain": [
              "[83.0, 87.0, 91.0, 95.0]"
            ]
          },
          "metadata": {
            "tags": []
          },
          "execution_count": 4
        }
      ]
    },
    {
      "cell_type": "code",
      "metadata": {
        "id": "OWthJL3cXPJx",
        "outputId": "cbc358ad-12f2-4b17-ce9a-8a44ee25a9af"
      },
      "source": [
        "# 계산의 편리성을 위해 ndarray를 생성한다.\n",
        "array1 = np.array(성적)\n",
        "array2 = np.array(예측성적)\n",
        "print(array1)\n",
        "print(array2)"
      ],
      "execution_count": null,
      "outputs": [
        {
          "output_type": "stream",
          "text": [
            "[81 93 91 97]\n",
            "[83. 87. 91. 95.]\n"
          ],
          "name": "stdout"
        }
      ]
    },
    {
      "cell_type": "code",
      "metadata": {
        "id": "TphBHtmRXPJx",
        "outputId": "d20348af-c799-4a37-b179-50da3795eefc"
      },
      "source": [
        "# 진짜 결과와 예측 결과를 뺀다.\n",
        "array3 = array1 - array2\n",
        "array3"
      ],
      "execution_count": null,
      "outputs": [
        {
          "output_type": "execute_result",
          "data": {
            "text/plain": [
              "array([-2.,  6.,  0.,  2.])"
            ]
          },
          "metadata": {
            "tags": []
          },
          "execution_count": 6
        }
      ]
    },
    {
      "cell_type": "code",
      "metadata": {
        "id": "inJX3gfRXPJ1",
        "outputId": "8d9f408c-3a40-4573-d1e7-6e39d4fb7445"
      },
      "source": [
        "# 각각의 제곱을 구한다.\n",
        "array4 = array3 ** 2\n",
        "array4"
      ],
      "execution_count": null,
      "outputs": [
        {
          "output_type": "execute_result",
          "data": {
            "text/plain": [
              "array([ 4., 36.,  0.,  4.])"
            ]
          },
          "metadata": {
            "tags": []
          },
          "execution_count": 7
        }
      ]
    },
    {
      "cell_type": "code",
      "metadata": {
        "id": "nvO1yWo3XPJ3",
        "outputId": "ce8bc10d-a79c-4997-fc2d-3376684383f3"
      },
      "source": [
        "# 평균을 구한다.\n",
        "mse = array4.mean()\n",
        "mse"
      ],
      "execution_count": null,
      "outputs": [
        {
          "output_type": "execute_result",
          "data": {
            "text/plain": [
              "11.0"
            ]
          },
          "metadata": {
            "tags": []
          },
          "execution_count": 8
        }
      ]
    },
    {
      "cell_type": "code",
      "metadata": {
        "id": "cJoK83tQXPJ3"
      },
      "source": [
        ""
      ],
      "execution_count": null,
      "outputs": []
    }
  ]
}