{
  "nbformat": 4,
  "nbformat_minor": 0,
  "metadata": {
    "kernelspec": {
      "display_name": "Python 3",
      "language": "python",
      "name": "python3"
    },
    "language_info": {
      "codemirror_mode": {
        "name": "ipython",
        "version": 3
      },
      "file_extension": ".py",
      "mimetype": "text/x-python",
      "name": "python",
      "nbconvert_exporter": "python",
      "pygments_lexer": "ipython3",
      "version": "3.8.5"
    },
    "colab": {
      "name": "24_MNIST - 기본 딥러닝.ipynb",
      "provenance": []
    }
  },
  "cells": [
    {
      "cell_type": "code",
      "metadata": {
        "id": "hDmWzCRrjga9",
        "outputId": "06c42470-5807-4ea9-cc14-8ac330a99c8d"
      },
      "source": [
        "# 기본\n",
        "import pandas as pd\n",
        "import numpy as np\n",
        "import matplotlib.pyplot as plt\n",
        "\n",
        "# 경고 뜨지 않게 설정\n",
        "import warnings\n",
        "warnings.filterwarnings('ignore')\n",
        "\n",
        "# 그래프 설정\n",
        "plt.rcParams['font.family'] = 'Malgun Gothic'\n",
        "# plt.rcParams['font.family'] = 'AppleGothic'\n",
        "plt.rcParams['font.size'] = 16\n",
        "plt.rcParams['figure.figsize'] = 20, 10\n",
        "plt.rcParams['axes.unicode_minus'] = False\n",
        "\n",
        "# 데이터 전처리 알고리즘\n",
        "from sklearn.preprocessing import LabelEncoder\n",
        "from sklearn.preprocessing import StandardScaler\n",
        "\n",
        "# 학습용과 검증용으로 나누는 함수\n",
        "from sklearn.model_selection import train_test_split\n",
        "\n",
        "# 교차 검증\n",
        "# 지표를 하나만 설정할 경우\n",
        "from sklearn.model_selection import cross_val_score\n",
        "# 지표를 하나 이상 설정할 경우\n",
        "from sklearn.model_selection import cross_validate\n",
        "from sklearn.model_selection import KFold\n",
        "from sklearn.model_selection import StratifiedKFold\n",
        "\n",
        "# 모델의 최적의 하이퍼파라미터를 찾기 위한 도구\n",
        "from sklearn.model_selection import GridSearchCV\n",
        "\n",
        "# 평가함수\n",
        "# 분류용\n",
        "from sklearn.metrics import accuracy_score\n",
        "from sklearn.metrics import precision_score\n",
        "from sklearn.metrics import recall_score\n",
        "from sklearn.metrics import f1_score\n",
        "from sklearn.metrics import roc_auc_score\n",
        "\n",
        "# 회귀용\n",
        "from sklearn.metrics import r2_score\n",
        "from sklearn.metrics import mean_squared_error\n",
        "\n",
        "# 머신러닝 알고리즘 - 분류\n",
        "from sklearn.neighbors import KNeighborsClassifier\n",
        "from sklearn.linear_model import LogisticRegression\n",
        "from sklearn.svm import SVC\n",
        "from sklearn.tree import DecisionTreeClassifier\n",
        "from sklearn.ensemble import RandomForestClassifier\n",
        "from sklearn.ensemble import AdaBoostClassifier\n",
        "from sklearn.ensemble import GradientBoostingClassifier\n",
        "from lightgbm import LGBMClassifier\n",
        "from xgboost import XGBClassifier\n",
        "from sklearn.ensemble import VotingClassifier\n",
        "\n",
        "# 머신러닝 알고리즘 - 회귀\n",
        "from sklearn.neighbors import KNeighborsRegressor\n",
        "from sklearn.linear_model import LinearRegression\n",
        "from sklearn.linear_model import Ridge\n",
        "from sklearn.linear_model import Lasso\n",
        "from sklearn.linear_model import ElasticNet\n",
        "from sklearn.svm import SVR\n",
        "from sklearn.tree import DecisionTreeRegressor\n",
        "from sklearn.ensemble import RandomForestRegressor\n",
        "from sklearn.ensemble import AdaBoostRegressor\n",
        "from sklearn.ensemble import GradientBoostingRegressor\n",
        "from lightgbm import LGBMRegressor\n",
        "from xgboost import XGBRegressor\n",
        "from sklearn.ensemble import VotingRegressor\n",
        "\n",
        "# 차원축소\n",
        "from sklearn.decomposition import PCA\n",
        "from sklearn.discriminant_analysis import LinearDiscriminantAnalysis\n",
        "\n",
        "# 군집화\n",
        "from sklearn.cluster import KMeans\n",
        "from sklearn.cluster import MeanShift\n",
        "from sklearn.cluster import estimate_bandwidth\n",
        "\n",
        "# ARIMA (시계열 예측)\n",
        "from statsmodels.tsa.arima_model import ARIMA\n",
        "import statsmodels.api as sm\n",
        "\n",
        "# 시간 측정을 위한 시간 모듈\n",
        "import datetime\n",
        "# 주식 정보를 읽어오기 위한 라이브러리\n",
        "from pandas_datareader import data\n",
        "\n",
        "# 형태소 백터를 생성하기 위한 라이브러리\n",
        "from sklearn.feature_extraction.text import CountVectorizer\n",
        "# 형태소 백터를 학습 백터로 변환한다.\n",
        "from sklearn.feature_extraction.text import TfidfTransformer\n",
        "\n",
        "# 데이터 수집\n",
        "import requests\n",
        "from bs4 import BeautifulSoup\n",
        "import re\n",
        "import time\n",
        "import os\n",
        "import json\n",
        "\n",
        "# 한국어 형태소 분석\n",
        "from konlpy.tag import Okt, Hannanum, Kkma, Mecab, Komoran\n",
        "\n",
        "# 워드 클라우드를 위한 라이브러리\n",
        "from collections import Counter\n",
        "import pytagcloud\n",
        "from IPython.display import Image\n",
        "\n",
        "# 출력 창 청소를 위한 함수\n",
        "from IPython.display import clear_output\n",
        "\n",
        "# 저장\n",
        "import pickle\n",
        "\n",
        "# 딥러닝\n",
        "import tensorflow as tf\n",
        "\n",
        "# 딥러닝 모델 구조를 정의하는 것\n",
        "from tensorflow.keras.models import Sequential\n",
        "# 층구조를 정의하는 것\n",
        "from tensorflow.keras.layers import Dense\n",
        "# 활성화 함수를 정의하는 것\n",
        "from tensorflow.keras.layers import Activation\n",
        "\n",
        "# 다중 분류를 위한 원핫 인코딩\n",
        "# 결과데이터의 종류 수 만큼 결과데이터의 컬럼을 늘리는 작업\n",
        "from tensorflow.keras.utils import to_categorical\n",
        "\n",
        "# 저장된 학습 모델을 읽어온다.\n",
        "from tensorflow.keras.models import load_model\n",
        "\n",
        "# epoch마다 모델을 저장하는 함수\n",
        "from tensorflow.keras.callbacks import ModelCheckpoint\n",
        "# 더이상 성능 향상이 이루어지지 않는다면 조기 중단 시킬 수 있다.\n",
        "from tensorflow.keras.callbacks import EarlyStopping\n",
        "\n",
        "# 현재 프로젝트를 gpu에 할당한다.\n",
        "# 컴퓨터의 GPU는 메모리를 가지고 있다.\n",
        "gpus = tf.config.experimental.list_physical_devices('GPU')\n",
        "# gpu가 있다면..\n",
        "if len(gpus) > 0 :\n",
        "    try :\n",
        "        for gpu in gpus :\n",
        "            tf.config.experimental.set_memory_growth(gpu, True)\n",
        "    except RuntimeError as e :\n",
        "        print(e)"
      ],
      "execution_count": null,
      "outputs": [
        {
          "output_type": "stream",
          "text": [
            "pygame 2.0.1 (SDL 2.0.14, Python 3.8.5)\n",
            "Hello from the pygame community. https://www.pygame.org/contribute.html\n"
          ],
          "name": "stdout"
        }
      ]
    },
    {
      "cell_type": "code",
      "metadata": {
        "id": "f9F4sZ2OjgbI"
      },
      "source": [
        "# MNIST 데이터 \n",
        "from tensorflow.keras.datasets import mnist"
      ],
      "execution_count": null,
      "outputs": []
    },
    {
      "cell_type": "code",
      "metadata": {
        "id": "JrWgbRfwjgbJ"
      },
      "source": [
        "# seed 설정\n",
        "np.random.seed(1)\n",
        "tf.random.set_seed(1)"
      ],
      "execution_count": null,
      "outputs": []
    },
    {
      "cell_type": "code",
      "metadata": {
        "id": "vfVSNx2JjgbK"
      },
      "source": [
        "(X_train, y_train), (X_test, y_test) = mnist.load_data()"
      ],
      "execution_count": null,
      "outputs": []
    },
    {
      "cell_type": "code",
      "metadata": {
        "id": "tBVkD3z1jgbL"
      },
      "source": [
        "# 이미지 전처리(이미지의 색상 데이터를 0 ~ 1 사이로 맞춘다)\n",
        "# 3차원 행렬을 2차원으로 변경한다.\n",
        "# 2차원으로 되어 있는 이미지 행렬을 1차원으로 변경하는 작업\n",
        "# 이미지의 개수\n",
        "cnt = X_train.shape[0]\n",
        "# 이미지의 가로길이\n",
        "w1 = X_train.shape[1]\n",
        "# 이미지의 세로길이\n",
        "h1 = X_train.shape[2]\n",
        "\n",
        "X_train = X_train.reshape(cnt, w1 * h1)\n",
        "# 값을 실수로 변경한다(데이터가 0 ~ 255 이므로 255로 나눠주기 위해)\n",
        "X_train = X_train.astype('float64')\n",
        "# 255로 나눠 0 ~ 1사이로 맞춘다.\n",
        "X_train = X_train / 255"
      ],
      "execution_count": null,
      "outputs": []
    },
    {
      "cell_type": "code",
      "metadata": {
        "id": "GgeDEwsgjgbM"
      },
      "source": [
        "# 이미지 전처리(이미지의 색상 데이터를 0 ~ 1 사이로 맞춘다)\n",
        "# 3차원 행렬을 2차원으로 변경한다.\n",
        "# 2차원으로 되어 있는 이미지 행렬을 1차원으로 변경하는 작업\n",
        "# 이미지의 개수\n",
        "cnt = X_test.shape[0]\n",
        "# 이미지의 가로길이\n",
        "w1 = X_test.shape[1]\n",
        "# 이미지의 세로길이\n",
        "h1 = X_test.shape[2]\n",
        "\n",
        "X_test = X_test.reshape(cnt, w1 * h1)\n",
        "# 값을 실수로 변경한다(데이터가 0 ~ 255 이므로 255로 나눠주기 위해)\n",
        "X_test = X_test.astype('float64')\n",
        "# 255로 나눠 0 ~ 1사이로 맞춘다.\n",
        "X_test = X_test / 255"
      ],
      "execution_count": null,
      "outputs": []
    },
    {
      "cell_type": "code",
      "metadata": {
        "id": "VcCcTDAwjgbM"
      },
      "source": [
        "y_train = to_categorical(y_train)\n",
        "y_test = to_categorical(y_test)"
      ],
      "execution_count": null,
      "outputs": []
    },
    {
      "cell_type": "code",
      "metadata": {
        "id": "n7rWK8rfjgbN",
        "outputId": "5a2dce37-1da3-4cbd-a7ef-1598450295a8"
      },
      "source": [
        "X_train[0]"
      ],
      "execution_count": null,
      "outputs": [
        {
          "output_type": "execute_result",
          "data": {
            "text/plain": [
              "array([0.        , 0.        , 0.        , 0.        , 0.        ,\n",
              "       0.        , 0.        , 0.        , 0.        , 0.        ,\n",
              "       0.        , 0.        , 0.        , 0.        , 0.        ,\n",
              "       0.        , 0.        , 0.        , 0.        , 0.        ,\n",
              "       0.        , 0.        , 0.        , 0.        , 0.        ,\n",
              "       0.        , 0.        , 0.        , 0.        , 0.        ,\n",
              "       0.        , 0.        , 0.        , 0.        , 0.        ,\n",
              "       0.        , 0.        , 0.        , 0.        , 0.        ,\n",
              "       0.        , 0.        , 0.        , 0.        , 0.        ,\n",
              "       0.        , 0.        , 0.        , 0.        , 0.        ,\n",
              "       0.        , 0.        , 0.        , 0.        , 0.        ,\n",
              "       0.        , 0.        , 0.        , 0.        , 0.        ,\n",
              "       0.        , 0.        , 0.        , 0.        , 0.        ,\n",
              "       0.        , 0.        , 0.        , 0.        , 0.        ,\n",
              "       0.        , 0.        , 0.        , 0.        , 0.        ,\n",
              "       0.        , 0.        , 0.        , 0.        , 0.        ,\n",
              "       0.        , 0.        , 0.        , 0.        , 0.        ,\n",
              "       0.        , 0.        , 0.        , 0.        , 0.        ,\n",
              "       0.        , 0.        , 0.        , 0.        , 0.        ,\n",
              "       0.        , 0.        , 0.        , 0.        , 0.        ,\n",
              "       0.        , 0.        , 0.        , 0.        , 0.        ,\n",
              "       0.        , 0.        , 0.        , 0.        , 0.        ,\n",
              "       0.        , 0.        , 0.        , 0.        , 0.        ,\n",
              "       0.        , 0.        , 0.        , 0.        , 0.        ,\n",
              "       0.        , 0.        , 0.        , 0.        , 0.        ,\n",
              "       0.        , 0.        , 0.        , 0.        , 0.        ,\n",
              "       0.        , 0.        , 0.        , 0.        , 0.        ,\n",
              "       0.        , 0.        , 0.        , 0.        , 0.        ,\n",
              "       0.        , 0.        , 0.        , 0.        , 0.        ,\n",
              "       0.        , 0.        , 0.        , 0.        , 0.        ,\n",
              "       0.        , 0.        , 0.01176471, 0.07058824, 0.07058824,\n",
              "       0.07058824, 0.49411765, 0.53333333, 0.68627451, 0.10196078,\n",
              "       0.65098039, 1.        , 0.96862745, 0.49803922, 0.        ,\n",
              "       0.        , 0.        , 0.        , 0.        , 0.        ,\n",
              "       0.        , 0.        , 0.        , 0.        , 0.        ,\n",
              "       0.        , 0.11764706, 0.14117647, 0.36862745, 0.60392157,\n",
              "       0.66666667, 0.99215686, 0.99215686, 0.99215686, 0.99215686,\n",
              "       0.99215686, 0.88235294, 0.6745098 , 0.99215686, 0.94901961,\n",
              "       0.76470588, 0.25098039, 0.        , 0.        , 0.        ,\n",
              "       0.        , 0.        , 0.        , 0.        , 0.        ,\n",
              "       0.        , 0.        , 0.        , 0.19215686, 0.93333333,\n",
              "       0.99215686, 0.99215686, 0.99215686, 0.99215686, 0.99215686,\n",
              "       0.99215686, 0.99215686, 0.99215686, 0.98431373, 0.36470588,\n",
              "       0.32156863, 0.32156863, 0.21960784, 0.15294118, 0.        ,\n",
              "       0.        , 0.        , 0.        , 0.        , 0.        ,\n",
              "       0.        , 0.        , 0.        , 0.        , 0.        ,\n",
              "       0.        , 0.07058824, 0.85882353, 0.99215686, 0.99215686,\n",
              "       0.99215686, 0.99215686, 0.99215686, 0.77647059, 0.71372549,\n",
              "       0.96862745, 0.94509804, 0.        , 0.        , 0.        ,\n",
              "       0.        , 0.        , 0.        , 0.        , 0.        ,\n",
              "       0.        , 0.        , 0.        , 0.        , 0.        ,\n",
              "       0.        , 0.        , 0.        , 0.        , 0.        ,\n",
              "       0.31372549, 0.61176471, 0.41960784, 0.99215686, 0.99215686,\n",
              "       0.80392157, 0.04313725, 0.        , 0.16862745, 0.60392157,\n",
              "       0.        , 0.        , 0.        , 0.        , 0.        ,\n",
              "       0.        , 0.        , 0.        , 0.        , 0.        ,\n",
              "       0.        , 0.        , 0.        , 0.        , 0.        ,\n",
              "       0.        , 0.        , 0.        , 0.        , 0.05490196,\n",
              "       0.00392157, 0.60392157, 0.99215686, 0.35294118, 0.        ,\n",
              "       0.        , 0.        , 0.        , 0.        , 0.        ,\n",
              "       0.        , 0.        , 0.        , 0.        , 0.        ,\n",
              "       0.        , 0.        , 0.        , 0.        , 0.        ,\n",
              "       0.        , 0.        , 0.        , 0.        , 0.        ,\n",
              "       0.        , 0.        , 0.        , 0.        , 0.54509804,\n",
              "       0.99215686, 0.74509804, 0.00784314, 0.        , 0.        ,\n",
              "       0.        , 0.        , 0.        , 0.        , 0.        ,\n",
              "       0.        , 0.        , 0.        , 0.        , 0.        ,\n",
              "       0.        , 0.        , 0.        , 0.        , 0.        ,\n",
              "       0.        , 0.        , 0.        , 0.        , 0.        ,\n",
              "       0.        , 0.        , 0.04313725, 0.74509804, 0.99215686,\n",
              "       0.2745098 , 0.        , 0.        , 0.        , 0.        ,\n",
              "       0.        , 0.        , 0.        , 0.        , 0.        ,\n",
              "       0.        , 0.        , 0.        , 0.        , 0.        ,\n",
              "       0.        , 0.        , 0.        , 0.        , 0.        ,\n",
              "       0.        , 0.        , 0.        , 0.        , 0.        ,\n",
              "       0.        , 0.1372549 , 0.94509804, 0.88235294, 0.62745098,\n",
              "       0.42352941, 0.00392157, 0.        , 0.        , 0.        ,\n",
              "       0.        , 0.        , 0.        , 0.        , 0.        ,\n",
              "       0.        , 0.        , 0.        , 0.        , 0.        ,\n",
              "       0.        , 0.        , 0.        , 0.        , 0.        ,\n",
              "       0.        , 0.        , 0.        , 0.        , 0.        ,\n",
              "       0.31764706, 0.94117647, 0.99215686, 0.99215686, 0.46666667,\n",
              "       0.09803922, 0.        , 0.        , 0.        , 0.        ,\n",
              "       0.        , 0.        , 0.        , 0.        , 0.        ,\n",
              "       0.        , 0.        , 0.        , 0.        , 0.        ,\n",
              "       0.        , 0.        , 0.        , 0.        , 0.        ,\n",
              "       0.        , 0.        , 0.        , 0.        , 0.17647059,\n",
              "       0.72941176, 0.99215686, 0.99215686, 0.58823529, 0.10588235,\n",
              "       0.        , 0.        , 0.        , 0.        , 0.        ,\n",
              "       0.        , 0.        , 0.        , 0.        , 0.        ,\n",
              "       0.        , 0.        , 0.        , 0.        , 0.        ,\n",
              "       0.        , 0.        , 0.        , 0.        , 0.        ,\n",
              "       0.        , 0.        , 0.        , 0.0627451 , 0.36470588,\n",
              "       0.98823529, 0.99215686, 0.73333333, 0.        , 0.        ,\n",
              "       0.        , 0.        , 0.        , 0.        , 0.        ,\n",
              "       0.        , 0.        , 0.        , 0.        , 0.        ,\n",
              "       0.        , 0.        , 0.        , 0.        , 0.        ,\n",
              "       0.        , 0.        , 0.        , 0.        , 0.        ,\n",
              "       0.        , 0.        , 0.        , 0.97647059, 0.99215686,\n",
              "       0.97647059, 0.25098039, 0.        , 0.        , 0.        ,\n",
              "       0.        , 0.        , 0.        , 0.        , 0.        ,\n",
              "       0.        , 0.        , 0.        , 0.        , 0.        ,\n",
              "       0.        , 0.        , 0.        , 0.        , 0.        ,\n",
              "       0.        , 0.        , 0.        , 0.18039216, 0.50980392,\n",
              "       0.71764706, 0.99215686, 0.99215686, 0.81176471, 0.00784314,\n",
              "       0.        , 0.        , 0.        , 0.        , 0.        ,\n",
              "       0.        , 0.        , 0.        , 0.        , 0.        ,\n",
              "       0.        , 0.        , 0.        , 0.        , 0.        ,\n",
              "       0.        , 0.        , 0.        , 0.        , 0.15294118,\n",
              "       0.58039216, 0.89803922, 0.99215686, 0.99215686, 0.99215686,\n",
              "       0.98039216, 0.71372549, 0.        , 0.        , 0.        ,\n",
              "       0.        , 0.        , 0.        , 0.        , 0.        ,\n",
              "       0.        , 0.        , 0.        , 0.        , 0.        ,\n",
              "       0.        , 0.        , 0.        , 0.        , 0.        ,\n",
              "       0.09411765, 0.44705882, 0.86666667, 0.99215686, 0.99215686,\n",
              "       0.99215686, 0.99215686, 0.78823529, 0.30588235, 0.        ,\n",
              "       0.        , 0.        , 0.        , 0.        , 0.        ,\n",
              "       0.        , 0.        , 0.        , 0.        , 0.        ,\n",
              "       0.        , 0.        , 0.        , 0.        , 0.        ,\n",
              "       0.        , 0.09019608, 0.25882353, 0.83529412, 0.99215686,\n",
              "       0.99215686, 0.99215686, 0.99215686, 0.77647059, 0.31764706,\n",
              "       0.00784314, 0.        , 0.        , 0.        , 0.        ,\n",
              "       0.        , 0.        , 0.        , 0.        , 0.        ,\n",
              "       0.        , 0.        , 0.        , 0.        , 0.        ,\n",
              "       0.        , 0.        , 0.07058824, 0.67058824, 0.85882353,\n",
              "       0.99215686, 0.99215686, 0.99215686, 0.99215686, 0.76470588,\n",
              "       0.31372549, 0.03529412, 0.        , 0.        , 0.        ,\n",
              "       0.        , 0.        , 0.        , 0.        , 0.        ,\n",
              "       0.        , 0.        , 0.        , 0.        , 0.        ,\n",
              "       0.        , 0.        , 0.        , 0.21568627, 0.6745098 ,\n",
              "       0.88627451, 0.99215686, 0.99215686, 0.99215686, 0.99215686,\n",
              "       0.95686275, 0.52156863, 0.04313725, 0.        , 0.        ,\n",
              "       0.        , 0.        , 0.        , 0.        , 0.        ,\n",
              "       0.        , 0.        , 0.        , 0.        , 0.        ,\n",
              "       0.        , 0.        , 0.        , 0.        , 0.        ,\n",
              "       0.        , 0.53333333, 0.99215686, 0.99215686, 0.99215686,\n",
              "       0.83137255, 0.52941176, 0.51764706, 0.0627451 , 0.        ,\n",
              "       0.        , 0.        , 0.        , 0.        , 0.        ,\n",
              "       0.        , 0.        , 0.        , 0.        , 0.        ,\n",
              "       0.        , 0.        , 0.        , 0.        , 0.        ,\n",
              "       0.        , 0.        , 0.        , 0.        , 0.        ,\n",
              "       0.        , 0.        , 0.        , 0.        , 0.        ,\n",
              "       0.        , 0.        , 0.        , 0.        , 0.        ,\n",
              "       0.        , 0.        , 0.        , 0.        , 0.        ,\n",
              "       0.        , 0.        , 0.        , 0.        , 0.        ,\n",
              "       0.        , 0.        , 0.        , 0.        , 0.        ,\n",
              "       0.        , 0.        , 0.        , 0.        , 0.        ,\n",
              "       0.        , 0.        , 0.        , 0.        , 0.        ,\n",
              "       0.        , 0.        , 0.        , 0.        , 0.        ,\n",
              "       0.        , 0.        , 0.        , 0.        , 0.        ,\n",
              "       0.        , 0.        , 0.        , 0.        , 0.        ,\n",
              "       0.        , 0.        , 0.        , 0.        , 0.        ,\n",
              "       0.        , 0.        , 0.        , 0.        , 0.        ,\n",
              "       0.        , 0.        , 0.        , 0.        , 0.        ,\n",
              "       0.        , 0.        , 0.        , 0.        , 0.        ,\n",
              "       0.        , 0.        , 0.        , 0.        , 0.        ,\n",
              "       0.        , 0.        , 0.        , 0.        ])"
            ]
          },
          "metadata": {
            "tags": []
          },
          "execution_count": 8
        }
      ]
    },
    {
      "cell_type": "code",
      "metadata": {
        "id": "gsqDVrZRjgbO"
      },
      "source": [
        "# 모델 설정\n",
        "model = Sequential()\n",
        "\n",
        "model.add(Dense(512, input_dim=784))\n",
        "model.add(Activation('relu'))\n",
        "\n",
        "model.add(Dense(10))\n",
        "model.add(Activation('softmax'))"
      ],
      "execution_count": null,
      "outputs": []
    },
    {
      "cell_type": "code",
      "metadata": {
        "id": "utIalL_4jgbP"
      },
      "source": [
        "# 모델 컴파일\n",
        "model.compile(loss='categorical_crossentropy', optimizer='adam', \n",
        "              metrics=['accuracy'])"
      ],
      "execution_count": null,
      "outputs": []
    },
    {
      "cell_type": "code",
      "metadata": {
        "id": "l4NqbSGujgbQ"
      },
      "source": [
        "# 모델들이 저장될 위치\n",
        "# epoch : 학습 횟수\n",
        "# val_loss : 검증 데이터의 손실률\n",
        "path1 = 'models/24_MNIST - 기본 딥러닝/{epoch}-{val_loss}.hdf5'\n",
        "path2 = 'models/24_MNIST - 기본 딥러닝/최종.hdf5'\n",
        "\n",
        "# 저장 콜백 설정\n",
        "# save_best_only : True를 넣어주면 모니터링하는 값이 개선 되었을 경우에만\n",
        "# 저장을 한다. 기본은 False 이며 False시 매번 저장을 한다.\n",
        "call1 = ModelCheckpoint(filepath=path1, monitor='val_loss', \n",
        "                       save_best_only=True)\n",
        "\n",
        "call2 = ModelCheckpoint(filepath=path2, monitor='val_loss', \n",
        "                       save_best_only=True)"
      ],
      "execution_count": null,
      "outputs": []
    },
    {
      "cell_type": "code",
      "metadata": {
        "id": "Hxo_fA_OjgbR"
      },
      "source": [
        "# 조기 중단\n",
        "# patience : 현재 평가 값이 이전 평가 값 보다 좋다고 판단될 경우 앞으로\n",
        "# 몇번을 더 볼 것인가를 설정하는 부분\n",
        "call3 = EarlyStopping(monitor='val_loss', patience=50)"
      ],
      "execution_count": null,
      "outputs": []
    },
    {
      "cell_type": "code",
      "metadata": {
        "id": "ojmb1GvmjgbW",
        "outputId": "c9aaff97-394d-45b9-c2ef-28c2d905bd5f"
      },
      "source": [
        "history = model.fit(X_train, y_train, validation_data=(X_test, y_test), \n",
        "                    epochs=2000, batch_size=500, \n",
        "                    callbacks=[call1, call2, call3])"
      ],
      "execution_count": null,
      "outputs": [
        {
          "output_type": "stream",
          "text": [
            "Epoch 1/2000\n",
            "120/120 [==============================] - 1s 4ms/step - loss: 0.4008 - accuracy: 0.8910 - val_loss: 0.2057 - val_accuracy: 0.9412\n",
            "Epoch 2/2000\n",
            "120/120 [==============================] - 0s 3ms/step - loss: 0.1739 - accuracy: 0.9506 - val_loss: 0.1408 - val_accuracy: 0.9596\n",
            "Epoch 3/2000\n",
            "120/120 [==============================] - 0s 3ms/step - loss: 0.1224 - accuracy: 0.9656 - val_loss: 0.1122 - val_accuracy: 0.9667\n",
            "Epoch 4/2000\n",
            "120/120 [==============================] - 0s 3ms/step - loss: 0.0934 - accuracy: 0.9742 - val_loss: 0.0943 - val_accuracy: 0.9718\n",
            "Epoch 5/2000\n",
            "120/120 [==============================] - 0s 3ms/step - loss: 0.0741 - accuracy: 0.9796 - val_loss: 0.0844 - val_accuracy: 0.9743\n",
            "Epoch 6/2000\n",
            "120/120 [==============================] - 0s 3ms/step - loss: 0.0596 - accuracy: 0.9831 - val_loss: 0.0784 - val_accuracy: 0.9754\n",
            "Epoch 7/2000\n",
            "120/120 [==============================] - 0s 3ms/step - loss: 0.0495 - accuracy: 0.9866 - val_loss: 0.0675 - val_accuracy: 0.9778\n",
            "Epoch 8/2000\n",
            "120/120 [==============================] - 0s 3ms/step - loss: 0.0409 - accuracy: 0.9893 - val_loss: 0.0664 - val_accuracy: 0.9791\n",
            "Epoch 9/2000\n",
            "120/120 [==============================] - 0s 3ms/step - loss: 0.0338 - accuracy: 0.9913 - val_loss: 0.0649 - val_accuracy: 0.9792\n",
            "Epoch 10/2000\n",
            "120/120 [==============================] - 0s 3ms/step - loss: 0.0281 - accuracy: 0.9937 - val_loss: 0.0618 - val_accuracy: 0.9801\n",
            "Epoch 11/2000\n",
            "120/120 [==============================] - 0s 3ms/step - loss: 0.0241 - accuracy: 0.9947 - val_loss: 0.0605 - val_accuracy: 0.9803\n",
            "Epoch 12/2000\n",
            "120/120 [==============================] - 0s 3ms/step - loss: 0.0204 - accuracy: 0.9956 - val_loss: 0.0589 - val_accuracy: 0.9794\n",
            "Epoch 13/2000\n",
            "120/120 [==============================] - 0s 3ms/step - loss: 0.0169 - accuracy: 0.9967 - val_loss: 0.0627 - val_accuracy: 0.9798\n",
            "Epoch 14/2000\n",
            "120/120 [==============================] - 0s 3ms/step - loss: 0.0141 - accuracy: 0.9978 - val_loss: 0.0595 - val_accuracy: 0.9809\n",
            "Epoch 15/2000\n",
            "120/120 [==============================] - 0s 3ms/step - loss: 0.0120 - accuracy: 0.9982 - val_loss: 0.0569 - val_accuracy: 0.9812\n",
            "Epoch 16/2000\n",
            "120/120 [==============================] - 0s 3ms/step - loss: 0.0103 - accuracy: 0.9987 - val_loss: 0.0568 - val_accuracy: 0.9817\n",
            "Epoch 17/2000\n",
            "120/120 [==============================] - 0s 3ms/step - loss: 0.0086 - accuracy: 0.9991 - val_loss: 0.0606 - val_accuracy: 0.9802\n",
            "Epoch 18/2000\n",
            "120/120 [==============================] - 0s 3ms/step - loss: 0.0072 - accuracy: 0.9995 - val_loss: 0.0582 - val_accuracy: 0.9813\n",
            "Epoch 19/2000\n",
            "120/120 [==============================] - 0s 3ms/step - loss: 0.0063 - accuracy: 0.9995 - val_loss: 0.0603 - val_accuracy: 0.9809\n",
            "Epoch 20/2000\n",
            "120/120 [==============================] - 0s 3ms/step - loss: 0.0053 - accuracy: 0.9997 - val_loss: 0.0574 - val_accuracy: 0.9811\n",
            "Epoch 21/2000\n",
            "120/120 [==============================] - 0s 3ms/step - loss: 0.0046 - accuracy: 0.9999 - val_loss: 0.0580 - val_accuracy: 0.9816\n",
            "Epoch 22/2000\n",
            "120/120 [==============================] - 0s 3ms/step - loss: 0.0041 - accuracy: 0.9998 - val_loss: 0.0606 - val_accuracy: 0.9819\n",
            "Epoch 23/2000\n",
            "120/120 [==============================] - 0s 3ms/step - loss: 0.0034 - accuracy: 0.9999 - val_loss: 0.0594 - val_accuracy: 0.9812\n",
            "Epoch 24/2000\n",
            "120/120 [==============================] - 0s 3ms/step - loss: 0.0030 - accuracy: 0.9999 - val_loss: 0.0613 - val_accuracy: 0.9820\n",
            "Epoch 25/2000\n",
            "120/120 [==============================] - 0s 3ms/step - loss: 0.0025 - accuracy: 0.9999 - val_loss: 0.0606 - val_accuracy: 0.9820\n",
            "Epoch 26/2000\n",
            "120/120 [==============================] - 0s 3ms/step - loss: 0.0023 - accuracy: 1.0000 - val_loss: 0.0616 - val_accuracy: 0.9816\n",
            "Epoch 27/2000\n",
            "120/120 [==============================] - 0s 4ms/step - loss: 0.0020 - accuracy: 1.0000 - val_loss: 0.0622 - val_accuracy: 0.9816\n",
            "Epoch 28/2000\n",
            "120/120 [==============================] - 0s 3ms/step - loss: 0.0018 - accuracy: 1.0000 - val_loss: 0.0618 - val_accuracy: 0.9812\n",
            "Epoch 29/2000\n",
            "120/120 [==============================] - 0s 4ms/step - loss: 0.0016 - accuracy: 1.0000 - val_loss: 0.0603 - val_accuracy: 0.9819\n",
            "Epoch 30/2000\n",
            "120/120 [==============================] - 0s 3ms/step - loss: 0.0014 - accuracy: 1.0000 - val_loss: 0.0614 - val_accuracy: 0.9825\n",
            "Epoch 31/2000\n",
            "120/120 [==============================] - ETA: 0s - loss: 0.0013 - accuracy: 1.00 - 0s 3ms/step - loss: 0.0013 - accuracy: 1.0000 - val_loss: 0.0620 - val_accuracy: 0.9824\n",
            "Epoch 32/2000\n",
            "120/120 [==============================] - 0s 3ms/step - loss: 0.0011 - accuracy: 1.0000 - val_loss: 0.0633 - val_accuracy: 0.9820\n",
            "Epoch 33/2000\n",
            "120/120 [==============================] - 0s 3ms/step - loss: 0.0010 - accuracy: 1.0000 - val_loss: 0.0637 - val_accuracy: 0.9819\n",
            "Epoch 34/2000\n",
            "120/120 [==============================] - 0s 3ms/step - loss: 9.5489e-04 - accuracy: 1.0000 - val_loss: 0.0642 - val_accuracy: 0.9817\n",
            "Epoch 35/2000\n",
            "120/120 [==============================] - 0s 3ms/step - loss: 8.4006e-04 - accuracy: 1.0000 - val_loss: 0.0635 - val_accuracy: 0.9824\n",
            "Epoch 36/2000\n",
            "120/120 [==============================] - 0s 3ms/step - loss: 7.8046e-04 - accuracy: 1.0000 - val_loss: 0.0650 - val_accuracy: 0.9819\n",
            "Epoch 37/2000\n",
            "120/120 [==============================] - 0s 3ms/step - loss: 7.0053e-04 - accuracy: 1.0000 - val_loss: 0.0645 - val_accuracy: 0.9823\n",
            "Epoch 38/2000\n",
            "120/120 [==============================] - 0s 3ms/step - loss: 6.3656e-04 - accuracy: 1.0000 - val_loss: 0.0655 - val_accuracy: 0.9818\n",
            "Epoch 39/2000\n",
            "120/120 [==============================] - 0s 3ms/step - loss: 5.9279e-04 - accuracy: 1.0000 - val_loss: 0.0655 - val_accuracy: 0.9823\n",
            "Epoch 40/2000\n",
            "120/120 [==============================] - 0s 3ms/step - loss: 5.4996e-04 - accuracy: 1.0000 - val_loss: 0.0660 - val_accuracy: 0.9821\n",
            "Epoch 41/2000\n",
            "120/120 [==============================] - 0s 3ms/step - loss: 5.0085e-04 - accuracy: 1.0000 - val_loss: 0.0673 - val_accuracy: 0.9821\n",
            "Epoch 42/2000\n",
            "120/120 [==============================] - 0s 3ms/step - loss: 4.6072e-04 - accuracy: 1.0000 - val_loss: 0.0665 - val_accuracy: 0.9820\n",
            "Epoch 43/2000\n",
            "120/120 [==============================] - 0s 3ms/step - loss: 4.2579e-04 - accuracy: 1.0000 - val_loss: 0.0684 - val_accuracy: 0.9817\n",
            "Epoch 44/2000\n",
            "120/120 [==============================] - 0s 3ms/step - loss: 3.9493e-04 - accuracy: 1.0000 - val_loss: 0.0678 - val_accuracy: 0.9825\n",
            "Epoch 45/2000\n",
            "120/120 [==============================] - 0s 3ms/step - loss: 3.5942e-04 - accuracy: 1.0000 - val_loss: 0.0676 - val_accuracy: 0.9822\n",
            "Epoch 46/2000\n",
            "120/120 [==============================] - 0s 3ms/step - loss: 3.2650e-04 - accuracy: 1.0000 - val_loss: 0.0692 - val_accuracy: 0.9821\n",
            "Epoch 47/2000\n",
            "120/120 [==============================] - 0s 3ms/step - loss: 3.0306e-04 - accuracy: 1.0000 - val_loss: 0.0695 - val_accuracy: 0.9820\n",
            "Epoch 48/2000\n",
            "120/120 [==============================] - 0s 3ms/step - loss: 2.7971e-04 - accuracy: 1.0000 - val_loss: 0.0690 - val_accuracy: 0.9821\n",
            "Epoch 49/2000\n",
            "120/120 [==============================] - 0s 3ms/step - loss: 2.6186e-04 - accuracy: 1.0000 - val_loss: 0.0701 - val_accuracy: 0.9820\n",
            "Epoch 50/2000\n",
            "120/120 [==============================] - 0s 3ms/step - loss: 2.4277e-04 - accuracy: 1.0000 - val_loss: 0.0705 - val_accuracy: 0.9823\n",
            "Epoch 51/2000\n",
            "120/120 [==============================] - 0s 3ms/step - loss: 2.2683e-04 - accuracy: 1.0000 - val_loss: 0.0716 - val_accuracy: 0.9820\n",
            "Epoch 52/2000\n",
            "120/120 [==============================] - 0s 3ms/step - loss: 2.0413e-04 - accuracy: 1.0000 - val_loss: 0.0713 - val_accuracy: 0.9821\n",
            "Epoch 53/2000\n",
            "120/120 [==============================] - 0s 3ms/step - loss: 1.9132e-04 - accuracy: 1.0000 - val_loss: 0.0718 - val_accuracy: 0.9822\n",
            "Epoch 54/2000\n",
            "120/120 [==============================] - 0s 3ms/step - loss: 1.7978e-04 - accuracy: 1.0000 - val_loss: 0.0722 - val_accuracy: 0.9826\n",
            "Epoch 55/2000\n",
            "120/120 [==============================] - 0s 3ms/step - loss: 1.6861e-04 - accuracy: 1.0000 - val_loss: 0.0721 - val_accuracy: 0.9828\n",
            "Epoch 56/2000\n"
          ],
          "name": "stdout"
        },
        {
          "output_type": "stream",
          "text": [
            "120/120 [==============================] - 0s 3ms/step - loss: 1.5628e-04 - accuracy: 1.0000 - val_loss: 0.0730 - val_accuracy: 0.9825\n",
            "Epoch 57/2000\n",
            "120/120 [==============================] - 0s 3ms/step - loss: 1.4363e-04 - accuracy: 1.0000 - val_loss: 0.0734 - val_accuracy: 0.9826\n",
            "Epoch 58/2000\n",
            "120/120 [==============================] - 0s 3ms/step - loss: 1.3122e-04 - accuracy: 1.0000 - val_loss: 0.0733 - val_accuracy: 0.9825\n",
            "Epoch 59/2000\n",
            "120/120 [==============================] - 0s 3ms/step - loss: 1.2421e-04 - accuracy: 1.0000 - val_loss: 0.0743 - val_accuracy: 0.9828\n",
            "Epoch 60/2000\n",
            "120/120 [==============================] - 0s 3ms/step - loss: 1.1270e-04 - accuracy: 1.0000 - val_loss: 0.0748 - val_accuracy: 0.9823\n",
            "Epoch 61/2000\n",
            "120/120 [==============================] - 0s 3ms/step - loss: 1.0608e-04 - accuracy: 1.0000 - val_loss: 0.0749 - val_accuracy: 0.9822\n",
            "Epoch 62/2000\n",
            "120/120 [==============================] - 0s 3ms/step - loss: 9.8720e-05 - accuracy: 1.0000 - val_loss: 0.0756 - val_accuracy: 0.9825\n",
            "Epoch 63/2000\n",
            "120/120 [==============================] - 0s 3ms/step - loss: 9.1579e-05 - accuracy: 1.0000 - val_loss: 0.0770 - val_accuracy: 0.9825\n",
            "Epoch 64/2000\n",
            "120/120 [==============================] - 0s 3ms/step - loss: 8.5804e-05 - accuracy: 1.0000 - val_loss: 0.0760 - val_accuracy: 0.9827\n",
            "Epoch 65/2000\n",
            "120/120 [==============================] - 0s 3ms/step - loss: 7.9657e-05 - accuracy: 1.0000 - val_loss: 0.0768 - val_accuracy: 0.9825\n",
            "Epoch 66/2000\n",
            "120/120 [==============================] - 0s 3ms/step - loss: 7.4050e-05 - accuracy: 1.0000 - val_loss: 0.0781 - val_accuracy: 0.9816\n"
          ],
          "name": "stdout"
        }
      ]
    },
    {
      "cell_type": "code",
      "metadata": {
        "id": "VMMazAdnjgbY",
        "outputId": "a69e5378-c5cc-4c26-bf44-1bbe15668004"
      },
      "source": [
        "# 오차 정도와 정확도를 그래프로 그린다.\n",
        "plt.plot(history.history['accuracy'], label='accuracy')\n",
        "plt.plot(history.history['loss'], label='loss')\n",
        "plt.plot(history.history['val_accuracy'], label='val_accuracy')\n",
        "plt.plot(history.history['val_loss'], label='val_loss')\n",
        "plt.legend()\n",
        "plt.show()"
      ],
      "execution_count": null,
      "outputs": [
        {
          "output_type": "display_data",
          "data": {
            "image/png": "[encoded data removed]",
            "text/plain": [
              "<Figure size 1440x720 with 1 Axes>"
            ]
          },
          "metadata": {
            "tags": [],
            "needs_background": "light"
          }
        }
      ]
    },
    {
      "cell_type": "code",
      "metadata": {
        "id": "kMJ0NH-rjgbZ"
      },
      "source": [
        ""
      ],
      "execution_count": null,
      "outputs": []
    },
    {
      "cell_type": "code",
      "metadata": {
        "id": "YaTTdvVAjgba"
      },
      "source": [
        ""
      ],
      "execution_count": null,
      "outputs": []
    },
    {
      "cell_type": "code",
      "metadata": {
        "id": "fmQnwVVcjgba"
      },
      "source": [
        ""
      ],
      "execution_count": null,
      "outputs": []
    },
    {
      "cell_type": "code",
      "metadata": {
        "id": "o_uuEbwWjgba"
      },
      "source": [
        ""
      ],
      "execution_count": null,
      "outputs": []
    },
    {
      "cell_type": "code",
      "metadata": {
        "id": "09Nsz9jijgbb"
      },
      "source": [
        ""
      ],
      "execution_count": null,
      "outputs": []
    }
  ]
}