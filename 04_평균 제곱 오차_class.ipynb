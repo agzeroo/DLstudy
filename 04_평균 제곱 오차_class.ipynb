{
 "cells": [
  {
   "cell_type": "markdown",
   "metadata": {},
   "source": [
    "### 평균 제곱 오차\n",
    "- 앞서 살펴본 최소 제곱법을 이용하면 최적의 기울기와 절편을 계산할 수 있다.\n",
    "- 최소 제곱법은 입력데이터의 컬럼이 하나일 경우 정확한 계산이 가능하다.\n",
    "- 허나 세상의 모든 데이터는 그 형태가 다르고 컬럼이 하나인 것만 존재하는 것은 아니다.\n",
    "- 이에 세상의 모든 데이터를 대응하기 위한 공식을 만들기가 어렵다.\n",
    "- 따라서 최적의 선을 찾기 위해 임의 선을 하나 그리고 진짜 데이터와 얼마나 오차가 발생하는지 파악한다음 오차가 최소가 되는 선을 찾기위해 기울기와 절편을 조금씩 보정해 나가는 방식을 사용한다.\n",
    "- 이 때 오차 정도를 구하기 위해서 평균 제곱 오차라는 공식을 많이 사용한다.\n",
    "![평균 제곱 오차](notebook_image/3.png)"
   ]
  },
  {
   "cell_type": "code",
   "execution_count": null,
   "metadata": {},
   "outputs": [],
   "source": []
  }
 ],
 "metadata": {
  "kernelspec": {
   "display_name": "Python 3",
   "language": "python",
   "name": "python3"
  },
  "language_info": {
   "codemirror_mode": {
    "name": "ipython",
    "version": 3
   },
   "file_extension": ".py",
   "mimetype": "text/x-python",
   "name": "python",
   "nbconvert_exporter": "python",
   "pygments_lexer": "ipython3",
   "version": "3.8.5"
  }
 },
 "nbformat": 4,
 "nbformat_minor": 4
}
