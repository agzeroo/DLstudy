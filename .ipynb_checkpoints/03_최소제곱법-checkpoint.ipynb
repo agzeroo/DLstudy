{
 "cells": [
  {
   "cell_type": "code",
   "execution_count": 1,
   "metadata": {
    "executionInfo": {
     "elapsed": 4657,
     "status": "ok",
     "timestamp": 1621559829590,
     "user": {
      "displayName": "강은영",
      "photoUrl": "https://lh3.googleusercontent.com/a-/AOh14Gjy66CDAcyXsALCf0rphNoHtH-LG6qhHqqSC2Gbhw=s64",
      "userId": "13345059186417356878"
     },
     "user_tz": -540
    },
    "id": "QvBFbDJfXeiE"
   },
   "outputs": [],
   "source": [
    "# 기본\n",
    "import pandas as pd\n",
    "import numpy as np\n",
    "import matplotlib.pyplot as plt\n",
    "import seaborn as sns\n",
    "\n",
    "# 경고 뜨지 않게 설정\n",
    "import warnings\n",
    "warnings.filterwarnings('ignore')\n",
    "\n",
    "# 그래프 설정\n",
    "plt.rcParams['font.family'] = 'Malgun Gothic'\n",
    "# plt.rcParams['font.family'] = 'AppleGothic'\n",
    "plt.rcParams['font.size'] = 16\n",
    "plt.rcParams['figure.figsize'] = 20, 10\n",
    "plt.rcParams['axes.unicode_minus'] = False\n",
    "\n",
    "# 데이터 전처리 알고리즘\n",
    "from sklearn.preprocessing import LabelEncoder\n",
    "from sklearn.preprocessing import StandardScaler\n",
    "\n",
    "# 학습용과 검증용으로 나누는 함수\n",
    "from sklearn.model_selection import train_test_split\n",
    "\n",
    "# 교차 검증\n",
    "# 지표를 하나만 설정할 경우\n",
    "from sklearn.model_selection import cross_val_score\n",
    "# 지표를 하나 이상 설정할 경우\n",
    "from sklearn.model_selection import cross_validate\n",
    "from sklearn.model_selection import KFold\n",
    "from sklearn.model_selection import StratifiedKFold\n",
    "\n",
    "# 모델의 최적의 하이퍼파라미터를 찾기 위한 도구\n",
    "from sklearn.model_selection import GridSearchCV\n",
    "\n",
    "# 평가함수\n",
    "# 분류용\n",
    "from sklearn.metrics import accuracy_score\n",
    "from sklearn.metrics import precision_score\n",
    "from sklearn.metrics import recall_score\n",
    "from sklearn.metrics import f1_score\n",
    "from sklearn.metrics import roc_auc_score\n",
    "\n",
    "# 회귀용\n",
    "from sklearn.metrics import r2_score\n",
    "from sklearn.metrics import mean_squared_error\n",
    "\n",
    "# 머신러닝 알고리즘 - 분류\n",
    "from sklearn.neighbors import KNeighborsClassifier\n",
    "from sklearn.linear_model import LogisticRegression\n",
    "from sklearn.svm import SVC\n",
    "from sklearn.tree import DecisionTreeClassifier\n",
    "from sklearn.ensemble import RandomForestClassifier\n",
    "from sklearn.ensemble import AdaBoostClassifier\n",
    "from sklearn.ensemble import GradientBoostingClassifier\n",
    "from lightgbm import LGBMClassifier\n",
    "from xgboost import XGBClassifier\n",
    "from sklearn.ensemble import VotingClassifier\n",
    "\n",
    "# 머신러닝 알고리즘 - 회귀\n",
    "from sklearn.neighbors import KNeighborsRegressor\n",
    "from sklearn.linear_model import LinearRegression\n",
    "from sklearn.linear_model import Ridge\n",
    "from sklearn.linear_model import Lasso\n",
    "from sklearn.linear_model import ElasticNet\n",
    "from sklearn.svm import SVR\n",
    "from sklearn.tree import DecisionTreeRegressor\n",
    "from sklearn.ensemble import RandomForestRegressor\n",
    "from sklearn.ensemble import AdaBoostRegressor\n",
    "from sklearn.ensemble import GradientBoostingRegressor\n",
    "from lightgbm import LGBMRegressor\n",
    "from xgboost import XGBRegressor\n",
    "from sklearn.ensemble import VotingRegressor\n",
    "\n",
    "# 차원축소\n",
    "from sklearn.decomposition import PCA\n",
    "from sklearn.discriminant_analysis import LinearDiscriminantAnalysis\n",
    "\n",
    "# 군집화\n",
    "from sklearn.cluster import KMeans\n",
    "from sklearn.cluster import MeanShift\n",
    "from sklearn.cluster import estimate_bandwidth\n",
    "\n",
    "# ARIMA (시계열 예측)\n",
    "from statsmodels.tsa.arima_model import ARIMA\n",
    "import statsmodels.api as sm\n",
    "\n",
    "# 시간 측정을 위한 시간 모듈\n",
    "import datetime\n",
    "# 주식 정보를 읽어오기 위한 라이브러리\n",
    "from pandas_datareader import data\n",
    "\n",
    "# 형태소 백터를 생성하기 위한 라이브러리\n",
    "from sklearn.feature_extraction.text import CountVectorizer\n",
    "# 형태소 백터를 학습 백터로 변환한다.\n",
    "from sklearn.feature_extraction.text import TfidfTransformer\n",
    "\n",
    "# 데이터 수집\n",
    "import requests\n",
    "from bs4 import BeautifulSoup\n",
    "import re\n",
    "import time\n",
    "import os\n",
    "import json\n",
    "\n",
    "# 한국어 형태소 분석\n",
    "# from konlpy.tag import Okt, Hannanum, Kkma, Mecab, Komoran\n",
    "\n",
    "# 워드 클라우드를 위한 라이브러리\n",
    "from collections import Counter\n",
    "# import pytagcloud\n",
    "from IPython.display import Image\n",
    "\n",
    "# 저장\n",
    "import pickle\n",
    "\n",
    "# 딥러닝\n",
    "import tensorflow as tf\n",
    "\n",
    "# 딥러닝 모델 구조를 정의하는 것\n",
    "from tensorflow.keras.models import Sequential\n",
    "# 층구조를 정의하는 것\n",
    "from tensorflow.keras.layers import Dense\n",
    "# 활성화 함수를 정의하는 것\n",
    "from tensorflow.keras.layers import Activation\n",
    "\n",
    "# 현재 프로젝트를 gpu에 할당한다.\n",
    "# 컴퓨터의 GPU는 메모리를 가지고 있다.\n",
    "gpus = tf.config.experimental.list_physical_devices('GPU')\n",
    "# gpu가 있다면..\n",
    "if len(gpus) > 0 :\n",
    "    try :\n",
    "        for gpu in gpus :\n",
    "            tf.config.experimental.set_memory_growth(gpu, True)\n",
    "    except RuntimeError as e :\n",
    "        print(e)\n",
    "\n",
    "from tensorflow.python.client import device_lib"
   ]
  },
  {
   "cell_type": "markdown",
   "metadata": {
    "id": "yGfaP_Ayd0TB"
   },
   "source": [
    "### 최소 제곱법\n",
    "- 선형회귀는 정확한 예측선을 찾는 작업이다.\n",
    "- 예측선은 직선을 의미하며 y= ax + b 라는 기본 공식을 사용한다.\n",
    "- 이 때 a 는 기울기를 의미하며 b 는 y 절편을 의미한다.\n",
    "- 즉 선형회귀는 정확한 예측선을 찾기 위해 최적의 기울기와 y 절편을 찾는 것을 의미한다.\n",
    "- 이 때 최소 제곱법이 제공하는 공식을 이용하면 기울기와 절편을 계산할 수 있다.\n",
    "- 기울기 공식\n",
    "- ![1.PNG](data:image/png;base64,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)\n",
    "\n",
    "- y 절편 공식\n",
    "- ![2.PNG](data:image/png;base64,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)"
   ]
  },
  {
   "cell_type": "code",
   "execution_count": 2,
   "metadata": {
    "executionInfo": {
     "elapsed": 25,
     "status": "ok",
     "timestamp": 1621559829599,
     "user": {
      "displayName": "강은영",
      "photoUrl": "https://lh3.googleusercontent.com/a-/AOh14Gjy66CDAcyXsALCf0rphNoHtH-LG6qhHqqSC2Gbhw=s64",
      "userId": "13345059186417356878"
     },
     "user_tz": -540
    },
    "id": "MgVkPQ1Kd0WT"
   },
   "outputs": [],
   "source": [
    "# 학습할 데이터\n",
    "공부한시간 = [2, 4, 6, 8]\n",
    "성적 = [81, 93, 91, 97]\n"
   ]
  },
  {
   "cell_type": "code",
   "execution_count": 3,
   "metadata": {
    "colab": {
     "base_uri": "https://localhost:8080/",
     "height": 283
    },
    "executionInfo": {
     "elapsed": 453,
     "status": "ok",
     "timestamp": 1621559836454,
     "user": {
      "displayName": "강은영",
      "photoUrl": "https://lh3.googleusercontent.com/a-/AOh14Gjy66CDAcyXsALCf0rphNoHtH-LG6qhHqqSC2Gbhw=s64",
      "userId": "13345059186417356878"
     },
     "user_tz": -540
    },
    "id": "ta349PJwd0Y0",
    "outputId": "50cd0443-33d6-4774-a735-c8ec4857a575"
   },
   "outputs": [
    {
     "name": "stderr",
     "output_type": "stream",
     "text": [
      "findfont: Font family ['Malgun Gothic'] not found. Falling back to DejaVu Sans.\n"
     ]
    },
    {
     "data": {
      "image/png": "[encoded data removed]",
      "text/plain": [
       "<Figure size 432x288 with 1 Axes>"
      ]
     },
     "metadata": {
      "needs_background": "light",
      "tags": []
     },
     "output_type": "display_data"
    }
   ],
   "source": [
    "plt.scatter(공부한시간, 성적)\n",
    "plt.show()\n"
   ]
  },
  {
   "cell_type": "code",
   "execution_count": 4,
   "metadata": {
    "colab": {
     "base_uri": "https://localhost:8080/"
    },
    "executionInfo": {
     "elapsed": 391,
     "status": "ok",
     "timestamp": 1621560027663,
     "user": {
      "displayName": "강은영",
      "photoUrl": "https://lh3.googleusercontent.com/a-/AOh14Gjy66CDAcyXsALCf0rphNoHtH-LG6qhHqqSC2Gbhw=s64",
      "userId": "13345059186417356878"
     },
     "user_tz": -540
    },
    "id": "-5uLrskqd0cR",
    "outputId": "e3f02a62-9db8-4815-bd92-a184120b1f98"
   },
   "outputs": [
    {
     "name": "stdout",
     "output_type": "stream",
     "text": [
      "5.0\n",
      "90.5\n"
     ]
    }
   ],
   "source": [
    "# x와 y의 평균을 구하기 위해 ndarray를 생성한다.\n",
    "a1 = np.array(공부한시간)\n",
    "a2 = np.array(성적)\n",
    "\n",
    "x_mean = a1.mean()\n",
    "y_mean = a2.mean()\n",
    "\n",
    "print(x_mean)\n",
    "print(y_mean)\n"
   ]
  },
  {
   "cell_type": "code",
   "execution_count": 7,
   "metadata": {
    "colab": {
     "base_uri": "https://localhost:8080/"
    },
    "executionInfo": {
     "elapsed": 347,
     "status": "ok",
     "timestamp": 1621560253796,
     "user": {
      "displayName": "강은영",
      "photoUrl": "https://lh3.googleusercontent.com/a-/AOh14Gjy66CDAcyXsALCf0rphNoHtH-LG6qhHqqSC2Gbhw=s64",
      "userId": "13345059186417356878"
     },
     "user_tz": -540
    },
    "id": "vb7MJ3d2d0fD",
    "outputId": "0022c51e-1528-4144-b36c-912f36897b07"
   },
   "outputs": [
    {
     "data": {
      "text/plain": [
       "20.0"
      ]
     },
     "execution_count": 7,
     "metadata": {
      "tags": []
     },
     "output_type": "execute_result"
    }
   ],
   "source": [
    "# 기울기 계산을 위한 분모를 구한다.\n",
    "a1 = 0\n",
    "\n",
    "for a2 in 공부한시간 :\n",
    "    a1 = a1 + ((a2 - x_mean) ** 2)\n",
    "a1"
   ]
  },
  {
   "cell_type": "code",
   "execution_count": 8,
   "metadata": {
    "colab": {
     "base_uri": "https://localhost:8080/"
    },
    "executionInfo": {
     "elapsed": 365,
     "status": "ok",
     "timestamp": 1621560290787,
     "user": {
      "displayName": "강은영",
      "photoUrl": "https://lh3.googleusercontent.com/a-/AOh14Gjy66CDAcyXsALCf0rphNoHtH-LG6qhHqqSC2Gbhw=s64",
      "userId": "13345059186417356878"
     },
     "user_tz": -540
    },
    "id": "ffWGO6cvd0le",
    "outputId": "4b330366-caae-4f5e-bd64-468946497d6a"
   },
   "outputs": [
    {
     "name": "stdout",
     "output_type": "stream",
     "text": [
      "46.0\n"
     ]
    }
   ],
   "source": [
    "# 기울기 계산을 위한 분자를 구한다.\n",
    "a2 = 0\n",
    "\n",
    "for idx in range(len(공부한시간)) :\n",
    "    a2 = a2 + ((공부한시간[idx] - x_mean) * (성적[idx] - y_mean))\n",
    "\n",
    "print(a2)\n"
   ]
  },
  {
   "cell_type": "code",
   "execution_count": 9,
   "metadata": {
    "colab": {
     "base_uri": "https://localhost:8080/"
    },
    "executionInfo": {
     "elapsed": 365,
     "status": "ok",
     "timestamp": 1621560359112,
     "user": {
      "displayName": "강은영",
      "photoUrl": "https://lh3.googleusercontent.com/a-/AOh14Gjy66CDAcyXsALCf0rphNoHtH-LG6qhHqqSC2Gbhw=s64",
      "userId": "13345059186417356878"
     },
     "user_tz": -540
    },
    "id": "tUCGVF0ad0oP",
    "outputId": "88e3b129-b3d0-4c09-9ddb-540006f1474c"
   },
   "outputs": [
    {
     "data": {
      "text/plain": [
       "2.3"
      ]
     },
     "execution_count": 9,
     "metadata": {
      "tags": []
     },
     "output_type": "execute_result"
    }
   ],
   "source": [
    "# 분자를 분모로 나누어 기울기를 계산한다.\n",
    "기울기 = a2 / a1\n",
    "기울기\n"
   ]
  },
  {
   "cell_type": "code",
   "execution_count": 10,
   "metadata": {
    "colab": {
     "base_uri": "https://localhost:8080/"
    },
    "executionInfo": {
     "elapsed": 383,
     "status": "ok",
     "timestamp": 1621560468522,
     "user": {
      "displayName": "강은영",
      "photoUrl": "https://lh3.googleusercontent.com/a-/AOh14Gjy66CDAcyXsALCf0rphNoHtH-LG6qhHqqSC2Gbhw=s64",
      "userId": "13345059186417356878"
     },
     "user_tz": -540
    },
    "id": "fLMRx6Htd0rd",
    "outputId": "e91dd349-ae0d-4cd1-e3d4-130205f038b2"
   },
   "outputs": [
    {
     "data": {
      "text/plain": [
       "79.0"
      ]
     },
     "execution_count": 10,
     "metadata": {
      "tags": []
     },
     "output_type": "execute_result"
    }
   ],
   "source": [
    "# y 절편을 구한다.\n",
    "y절편 = y_mean - (x_mean * 기울기)\n",
    "y절편\n"
   ]
  },
  {
   "cell_type": "code",
   "execution_count": 11,
   "metadata": {
    "colab": {
     "base_uri": "https://localhost:8080/"
    },
    "executionInfo": {
     "elapsed": 350,
     "status": "ok",
     "timestamp": 1621560546597,
     "user": {
      "displayName": "강은영",
      "photoUrl": "https://lh3.googleusercontent.com/a-/AOh14Gjy66CDAcyXsALCf0rphNoHtH-LG6qhHqqSC2Gbhw=s64",
      "userId": "13345059186417356878"
     },
     "user_tz": -540
    },
    "id": "zZTgPuend0ua",
    "outputId": "616741ee-9b7b-4726-c84d-f0da215a80fc"
   },
   "outputs": [
    {
     "data": {
      "text/plain": [
       "[83.6, 88.2, 92.8, 97.4]"
      ]
     },
     "execution_count": 11,
     "metadata": {
      "tags": []
     },
     "output_type": "execute_result"
    }
   ],
   "source": [
    "# 값을 예측하여 실제 결과와 비교해본다.\n",
    "예측성적 = []\n",
    "\n",
    "for v1 in 공부한시간 :\n",
    "    a1 = (기울기 * v1) + y절편\n",
    "    예측성적.append(a1)\n",
    "    \n",
    "예측성적\n"
   ]
  },
  {
   "cell_type": "code",
   "execution_count": 13,
   "metadata": {
    "colab": {
     "base_uri": "https://localhost:8080/",
     "height": 265
    },
    "executionInfo": {
     "elapsed": 392,
     "status": "ok",
     "timestamp": 1621560628916,
     "user": {
      "displayName": "강은영",
      "photoUrl": "https://lh3.googleusercontent.com/a-/AOh14Gjy66CDAcyXsALCf0rphNoHtH-LG6qhHqqSC2Gbhw=s64",
      "userId": "13345059186417356878"
     },
     "user_tz": -540
    },
    "id": "2SPt7XTWd0xe",
    "outputId": "da09ea1b-42f0-4e17-8983-cb1c777490ae"
   },
   "outputs": [
    {
     "data": {
      "image/png": "[encoded data removed]",
      "text/plain": [
       "<Figure size 432x288 with 1 Axes>"
      ]
     },
     "metadata": {
      "needs_background": "light",
      "tags": []
     },
     "output_type": "display_data"
    }
   ],
   "source": [
    "# 값을 예측하여 실제 결과와 비교해본다.\n",
    "# 시각화 한다.\n",
    "plt.scatter(공부한시간, 성적, label='original')\n",
    "plt.scatter(공부한시간, 예측성적, label='prediction')\n",
    "plt.legend()\n",
    "plt.show()\n",
    "\n"
   ]
  },
  {
   "cell_type": "code",
   "execution_count": 14,
   "metadata": {
    "colab": {
     "base_uri": "https://localhost:8080/"
    },
    "executionInfo": {
     "elapsed": 398,
     "status": "ok",
     "timestamp": 1621560700086,
     "user": {
      "displayName": "강은영",
      "photoUrl": "https://lh3.googleusercontent.com/a-/AOh14Gjy66CDAcyXsALCf0rphNoHtH-LG6qhHqqSC2Gbhw=s64",
      "userId": "13345059186417356878"
     },
     "user_tz": -540
    },
    "id": "-J-4-2odd02I",
    "outputId": "5dc36ed3-0d3a-493a-a806-58e8cc7c5473"
   },
   "outputs": [
    {
     "data": {
      "text/plain": [
       "102.0"
      ]
     },
     "execution_count": 14,
     "metadata": {
      "tags": []
     },
     "output_type": "execute_result"
    }
   ],
   "source": [
    "# 10시간 공부한 경우\n",
    "pred = (기울기 * 10) + y절편\n",
    "pred\n"
   ]
  },
  {
   "cell_type": "code",
   "execution_count": 2,
   "metadata": {
    "executionInfo": {
     "elapsed": 20,
     "status": "ok",
     "timestamp": 1621559829607,
     "user": {
      "displayName": "강은영",
      "photoUrl": "https://lh3.googleusercontent.com/a-/AOh14Gjy66CDAcyXsALCf0rphNoHtH-LG6qhHqqSC2Gbhw=s64",
      "userId": "13345059186417356878"
     },
     "user_tz": -540
    },
    "id": "fbGUuvA8d05Q"
   },
   "outputs": [],
   "source": []
  }
 ],
 "metadata": {
  "accelerator": "GPU",
  "colab": {
   "authorship_tag": "ABX9TyPwa89hkfLH2FVPkQJ2Nz1e",
   "machine_shape": "hm",
   "name": "03_최소제곱법.ipynb",
   "provenance": []
  },
  "kernelspec": {
   "display_name": "Python 3",
   "language": "python",
   "name": "python3"
  },
  "language_info": {
   "codemirror_mode": {
    "name": "ipython",
    "version": 3
   },
   "file_extension": ".py",
   "mimetype": "text/x-python",
   "name": "python",
   "nbconvert_exporter": "python",
   "pygments_lexer": "ipython3",
   "version": "3.8.5"
  }
 },
 "nbformat": 4,
 "nbformat_minor": 1
}
